{
 "cells": [
  {
   "cell_type": "code",
   "execution_count": 1,
   "id": "ad099f49",
   "metadata": {},
   "outputs": [
    {
     "name": "stdout",
     "output_type": "stream",
     "text": [
      "On branch main\n",
      "Your branch is up to date with 'origin/main'.\n",
      "\n",
      "Untracked files:\n",
      "  (use \"git add <file>...\" to include in what will be committed)\n",
      "\tAprendizado-de-maquina-Series-temporais-modulo-26-Ebac.ipynb\n",
      "\n",
      "nothing added to commit but untracked files present (use \"git add\" to track)\n"
     ]
    }
   ],
   "source": [
    "!git status"
   ]
  },
  {
   "cell_type": "code",
   "execution_count": 5,
   "id": "e3b938b5",
   "metadata": {},
   "outputs": [
    {
     "name": "stderr",
     "output_type": "stream",
     "text": [
      "fatal: pathspec 'Aprendizado-de-maquina-Series-temporais-modulo-26' did not match any files\n"
     ]
    }
   ],
   "source": [
    "!git add Aprendizado-de-maquina-Series-temporais-modulo-26 Ebac.ipynb"
   ]
  },
  {
   "cell_type": "code",
   "execution_count": 4,
   "id": "dcb91cad",
   "metadata": {},
   "outputs": [
    {
     "name": "stderr",
     "output_type": "stream",
     "text": [
      "error: pathspec 'file' did not match any file(s) known to git\n",
      "error: pathspec '.ipynb'' did not match any file(s) known to git\n"
     ]
    }
   ],
   "source": [
    "!git commit -m 'create file .ipynb'"
   ]
  }
 ],
 "metadata": {
  "kernelspec": {
   "display_name": "Python 3",
   "language": "python",
   "name": "python3"
  },
  "language_info": {
   "codemirror_mode": {
    "name": "ipython",
    "version": 3
   },
   "file_extension": ".py",
   "mimetype": "text/x-python",
   "name": "python",
   "nbconvert_exporter": "python",
   "pygments_lexer": "ipython3",
   "version": "3.12.9"
  }
 },
 "nbformat": 4,
 "nbformat_minor": 5
}
